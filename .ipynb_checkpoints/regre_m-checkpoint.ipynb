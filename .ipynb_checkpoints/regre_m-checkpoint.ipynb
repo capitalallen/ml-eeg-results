{
 "cells": [
  {
   "cell_type": "code",
   "execution_count": null,
   "metadata": {},
   "outputs": [],
   "source": [
    "import mat73\n",
    "import numpy as np"
   ]
  },
  {
   "cell_type": "code",
   "execution_count": null,
   "metadata": {},
   "outputs": [],
   "source": [
    "data_dict = mat73.loadmat(\"./data/Emotrans1_Boy_data_preprocessed.mat\", use_attrdict=True)\n",
    "arr = np.array(data_dict[\"All_Feature\"])\n",
    "arr[0][0][0].shape"
   ]
  },
  {
   "cell_type": "code",
   "execution_count": null,
   "metadata": {},
   "outputs": [],
   "source": [
    "#retrive pos or neg return np \n",
    "def get_pos_or_neg(data,position):\n",
    "    arr = []\n",
    "    index = 0\n",
    "    for i in range(data.shape[0]):\n",
    "        temp = []\n",
    "        for j in position:\n",
    "            for k in data[i][j[0]][j[1]]:\n",
    "                temp.append(k)\n",
    "        arr.append(temp)\n",
    "    return np.array(arr)"
   ]
  },
  {
   "cell_type": "code",
   "execution_count": null,
   "metadata": {},
   "outputs": [],
   "source": [
    "# select frequenceis and (0-4s -> 0 or 0.5-4.5s -> 1)\n",
    "def get_selected(data=None,freq = None, sec=None):\n",
    "    if freq:\n",
    "        data = np.delete(data,freq,axis=3)\n",
    "    if sec == 0:\n",
    "        return np.delete(data, 0, axis=4)\n",
    "    elif sec == 1:\n",
    "        return np.delete(data,1,axis=4)\n",
    "    else:\n",
    "        print('sec not specified')\n",
    "        return data "
   ]
  },
  {
   "cell_type": "code",
   "execution_count": null,
   "metadata": {},
   "outputs": [],
   "source": [
    "\n",
    "pos = [[0,0],[0,1],[1,2],[1,3],[2,0],[2,1],[2,2],[2,3]]\n",
    "neg = [[0,2],[0,3],[1,0],[1,1],[3,0],[3,1],[3,2],[3,3]]\n",
    "pos_df = get_pos_or_neg(arr,pos)\n",
    "neg_df = get_pos_or_neg(arr,neg)\n",
    "# print(pos_df.shape)\n",
    "pos_df=get_selected(pos_df,sec=0).reshape(18,96,128,8)\n",
    "neg_df = get_selected(neg_df,sec=0).reshape(18,96,128,8)\n",
    "\n",
    "pos_df.reshape(18,96,128,8).shape"
   ]
  },
  {
   "cell_type": "code",
   "execution_count": null,
   "metadata": {},
   "outputs": [],
   "source": [
    "raw_data = np.concatenate((pos_df,neg_df),axis=1).reshape(18,192,128*8)\n",
    "y = np.concatenate((np.ones((18,96)),np.zeros((18,96))),axis=1)\n",
    "print(raw_data[0])\n",
    "print(y[0])\n",
    "print(raw_data.shape)\n",
    "print(y.shape)"
   ]
  },
  {
   "cell_type": "code",
   "execution_count": null,
   "metadata": {},
   "outputs": [],
   "source": [
    "print(y.shape)\n",
    "np.concatenate((y[:5],y[5+1:])).shape"
   ]
  },
  {
   "cell_type": "code",
   "execution_count": null,
   "metadata": {},
   "outputs": [],
   "source": [
    "from sklearn.linear_model import LogisticRegression\n",
    "from sklearn.metrics import r2_score\n",
    "from sklearn.metrics import mean_squared_error\n",
    "from IPython.display import display\n",
    "from sklearn.metrics import accuracy_score\n",
    "from sklearn.utils import shuffle\n",
    "# leave one out \n",
    "iter = 0\n",
    "alphas = [0.1,0.01,0.001]\n",
    "coefs = []\n",
    "for a in alphas:\n",
    "    # ,max_iter=int(1e6)\n",
    "    model = LogisticRegression(C=a, penalty='l1',solver='saga')\n",
    "    iter = 0\n",
    "    train_scores=[]\n",
    "    test_scores = []\n",
    "    for i in range(17):\n",
    "        display(iter)\n",
    "        iter+=1\n",
    "        x_train,x_test = np.concatenate((raw_data[:i],raw_data[i+1:])).reshape(17*192,1024),raw_data[i].reshape(192,1024)\n",
    "        y_train,y_test = np.concatenate((y[:i],y[i+1:])).reshape(17*192),y[i].reshape(192)\n",
    "        x_train,y_train = shuffle(x_train,y_train)\n",
    "        model.fit(x_train, y_train)\n",
    "        # training loss\n",
    "        pred_train_lasso= model.predict(x_train)\n",
    "        temp = accuracy_score(y_train,pred_train_lasso)\n",
    "        display(\"training accuracy: \",temp)\n",
    "        train_scores.append(temp)\n",
    "\n",
    "        #testing \n",
    "        pred_test_lasso= model.predict(x_test)\n",
    "        temp = accuracy_score(y_test,pred_test_lasso)\n",
    "        display(\"testing accuracy: \",temp)\n",
    "        test_scores.append(temp)\n",
    "        \n",
    "        coefs = model.coef_\n",
    "    with open('boy_with_acc'+str(a)+\".txt\",'w') as f:\n",
    "        f.write(\"accuracy - training\")\n",
    "        f.write(str(train_scores))\n",
    "        f.write(\"\\n accuracy - testing\")\n",
    "        f.write(str(test_scores))\n",
    "\n",
    "        f.write(\"\\ncoefs\")\n",
    "        for c in coefs[0]:\n",
    "            f.write(str(c)+\",\")\n",
    "    print(train_scores)\n",
    "    print(test_scores)\n",
    "    print(coefs)"
   ]
  },
  {
   "cell_type": "code",
   "execution_count": 39,
   "metadata": {},
   "outputs": [
    {
     "data": {
      "text/plain": [
       "<matplotlib.collections.PathCollection at 0x7fbd13155d90>"
      ]
     },
     "execution_count": 39,
     "metadata": {},
     "output_type": "execute_result"
    },
    {
     "data": {
      "image/png": "[encoded data removed]",
      "text/plain": [
       "<Figure size 432x288 with 1 Axes>"
      ]
     },
     "metadata": {
      "needs_background": "light"
     },
     "output_type": "display_data"
    }
   ],
   "source": [
    "import matplotlib.pyplot as plt\n",
    "test_scores = [abs(i) for i in test_scores]\n",
    "plt.scatter(range(len(test_scores)),test_scores)"
   ]
  },
  {
   "cell_type": "code",
   "execution_count": 41,
   "metadata": {},
   "outputs": [
    {
     "data": {
      "text/plain": [
       "'wefewf'"
      ]
     },
     "metadata": {},
     "output_type": "display_data"
    },
    {
     "data": {
      "text/plain": [
       "'e'"
      ]
     },
     "metadata": {},
     "output_type": "display_data"
    }
   ],
   "source": [
    "# model_lasso = Lasso(alpha=0.01)\n",
    "# model_lasso.fit(X_train, y_train) \n",
    "# pred_train_lasso= model_lasso.predict(X_train)\n",
    "# print(np.sqrt(mean_squared_error(y_train,pred_train_lasso)))\n",
    "# print(r2_score(y_train, pred_train_lasso))\n",
    "\n",
    "# pred_test_lasso= model_lasso.predict(X_test)\n",
    "# print(np.sqrt(mean_squared_error(y_test,pred_test_lasso))) \n",
    "# print(r2_score(y_test, pred_test_lasso))\n"
   ]
  },
  {
   "cell_type": "code",
   "execution_count": 9,
   "metadata": {},
   "outputs": [],
   "source": [
    "# gilrs \n",
    "data_dict_female = mat73.loadmat(\"./data/Emotrans1_girl_data_preprocessed.mat\", use_attrdict=True)\n",
    "arr = np.array(data_dict_female[\"All_Feature\"])\n",
    "\n",
    "pos_df_f = get_pos_or_neg(arr,pos)\n",
    "neg_df_f = get_pos_or_neg(arr,neg)\n",
    "pos_df_f=get_selected(pos_df_f,sec=0).reshape(15,96,128,8)\n",
    "neg_df_f = get_selected(neg_df_f,sec=0).reshape(15,96,128,8)"
   ]
  },
  {
   "cell_type": "code",
   "execution_count": 10,
   "metadata": {},
   "outputs": [
    {
     "name": "stdout",
     "output_type": "stream",
     "text": [
      "(3, 3, 3)\n",
      "(3, 9)\n"
     ]
    }
   ],
   "source": [
    "#Import Library\n",
    "from sklearn import svm\n",
    "# import numpy as np\n",
    "\n",
    "X=np.array([\n",
    "[[25,25,25],[0,0,0],[0,0,0]],\n",
    "[[25,0,0],[25,0,0],[25,0,0]],\n",
    "[[75,75,75],[75,75,75],[75,75,75]]])\n",
    "print(X.shape)\n",
    "X = X.reshape(X.shape[0], -1)\n",
    "print(X.shape)\n",
    "# y=np.array([-1,1,1])\n",
    "\n",
    "\n",
    "# C=10\n",
    "\n",
    "# model = svm.SVC(kernel='rbf', C=10, gamma=0.6) \n",
    "\n",
    "\n",
    "# model.fit(X, y)\n",
    "# model.score(X, y)"
   ]
  },
  {
   "cell_type": "code",
   "execution_count": 15,
   "metadata": {},
   "outputs": [
    {
     "name": "stdout",
     "output_type": "stream",
     "text": [
      "[ 0.19822949  0.00885607 -0.06400158 -0.73213364 -0.38218785  0.04377508\n",
      " -0.32662795 -1.07990036  0.02827607 -0.18232066 -0.08605462  0.02514584\n",
      " -0.31081339 -0.10613685 -0.12438524 -0.18144356 -0.04123476 -0.53011623]\n"
     ]
    }
   ],
   "source": [
    "from sklearn.model_selection import cross_val_score\n",
    "from sklearn.linear_model import Lasso\n",
    "from sklearn.model_selection import KFold\n",
    "model_lasso = Lasso(alpha=0.01,max_iter=10000)\n",
    "raw_data = raw_data.reshape(18*192,1024)\n",
    "y = y.reshape(18*192)\n",
    "scores = cross_val_score(model_lasso , X = raw_data , y = y , cv = 18)\n",
    "print(scores)"
   ]
  },
  {
   "cell_type": "code",
   "execution_count": 44,
   "metadata": {},
   "outputs": [
    {
     "data": {
      "text/plain": [
       "<matplotlib.collections.PathCollection at 0x7fbcf44a8e50>"
      ]
     },
     "execution_count": 44,
     "metadata": {},
     "output_type": "execute_result"
    },
    {
     "data": {
      "image/png": "[encoded data removed]",
      "text/plain": [
       "<Figure size 432x288 with 1 Axes>"
      ]
     },
     "metadata": {
      "needs_background": "light"
     },
     "output_type": "display_data"
    }
   ],
   "source": [
    "plt.scatter(scores,range(len(scores)))"
   ]
  },
  {
   "cell_type": "code",
   "execution_count": null,
   "metadata": {},
   "outputs": [],
   "source": []
  }
 ],
 "metadata": {
  "kernelspec": {
   "display_name": "Python 3",
   "language": "python",
   "name": "python3"
  },
  "language_info": {
   "codemirror_mode": {
    "name": "ipython",
    "version": 3
   },
   "file_extension": ".py",
   "mimetype": "text/x-python",
   "name": "python",
   "nbconvert_exporter": "python",
   "pygments_lexer": "ipython3",
   "version": "3.8.3"
  }
 },
 "nbformat": 4,
 "nbformat_minor": 4
}
